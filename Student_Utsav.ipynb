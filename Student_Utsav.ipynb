{
 "cells": [
  {
   "cell_type": "code",
   "execution_count": 1,
   "id": "66cec3e5",
   "metadata": {},
   "outputs": [],
   "source": [
    "import csv\n",
    "import operator \n",
    "import copy \n",
    "from token import EQUAL \n",
    "from builtins import sorted "
   ]
  },
  {
   "cell_type": "code",
   "execution_count": 2,
   "id": "fadc87ff",
   "metadata": {},
   "outputs": [],
   "source": [
    "reader = csv.reader(open(r'C:\\Users\\utyyy\\OneDrive - The University of Texas at Dallas\\Desktop\\Utsav UTD SEM 2\\Data Viz\\Assignments\\Assignment 4\\Largest_Cities_CSV.CSV'), delimiter=\",\")"
   ]
  },
  {
   "cell_type": "code",
   "execution_count": 3,
   "id": "7f86c4ef",
   "metadata": {},
   "outputs": [],
   "source": [
    "u ='State - Place'\n",
    "x = 'Year'\n",
    "y ='Population'\n",
    "z = ' Utsav - Rank'\n",
    "rows_so_far = 0\n",
    "c = 0"
   ]
  },
  {
   "cell_type": "code",
   "execution_count": 4,
   "id": "a79e1113",
   "metadata": {},
   "outputs": [],
   "source": [
    "pool =[]\n",
    "pool.append([])"
   ]
  },
  {
   "cell_type": "code",
   "execution_count": 5,
   "id": "8cf1fc66",
   "metadata": {},
   "outputs": [],
   "source": [
    "for row in reader:\n",
    "    if rows_so_far==0:\n",
    "        rows_so_far +=1\n",
    "        header = row\n",
    "        \n",
    "        for j in range(0,4):\n",
    "            if j==0:\n",
    "                pool.append([])\n",
    "                pool[0].append(u)\n",
    "            if j==1:\n",
    "                pool[0].append(x)\n",
    "            if j==2:\n",
    "                pool[0].append(y)\n",
    "            if j==3:\n",
    "                pool[0].append(z)\n",
    "    else:\n",
    "        for i in range(len(row)-2):\n",
    "            a = len(pool)\n",
    "            if not row==[]:\n",
    "                if i==0 or i>=1:\n",
    "                    item=copy.deepcopy(row)\n",
    "                    r = copy.deepcopy(row)\n",
    "                    \n",
    "                    for j in range(0,4):\n",
    "                        if item[i+2] != '':\n",
    "                            if j==0:\n",
    "                                r[0]= item[j+1]+' - '+item[j]\n",
    "                                pool.append([])\n",
    "                                pool[a-1].append(r[0])\n",
    "                            if j==1:\n",
    "                                pool[a-1].append(int(header[i+2]))\n",
    "                            if j==2:\n",
    "                                if item[i+2]=='':\n",
    "                                    pool[a-1].append(int(0))\n",
    "                                else:\n",
    "                                    pool[a-1].append(int(item[i+2]))\n",
    "                            if j==3:\n",
    "                                pool[a-1].append(int(0))\n",
    "    rows_so_far+=1"
   ]
  },
  {
   "cell_type": "code",
   "execution_count": 6,
   "id": "6aaa7e73",
   "metadata": {},
   "outputs": [],
   "source": [
    "a = len(pool)"
   ]
  },
  {
   "cell_type": "code",
   "execution_count": 7,
   "id": "b75eddf1",
   "metadata": {},
   "outputs": [],
   "source": [
    "list = pool[1:a-1]"
   ]
  },
  {
   "cell_type": "code",
   "execution_count": 8,
   "id": "da9fa814",
   "metadata": {},
   "outputs": [],
   "source": [
    "list.sort(key = lambda b: (b[1],b[2]), reverse=True)"
   ]
  },
  {
   "cell_type": "code",
   "execution_count": 9,
   "id": "908a9c9f",
   "metadata": {},
   "outputs": [],
   "source": [
    "list1= []\n",
    "list1.append([])\n",
    "list1[0] = pool[0]\n",
    "list1[1:a-1] = list[0:a-2]"
   ]
  },
  {
   "cell_type": "code",
   "execution_count": 10,
   "id": "2c46e245",
   "metadata": {},
   "outputs": [],
   "source": [
    "mycsv = csv.writer(open(r'C:\\Users\\utyyy\\OneDrive - The University of Texas at Dallas\\Desktop\\Utsav UTD SEM 2\\Data Viz\\Assignments\\Assignment 4\\Utsav.CSV','w', newline=''))\n",
    "for row in list1:\n",
    "    \n",
    "    e = list1.index(row)\n",
    "    \n",
    "    if row[1] != c and e != 0:\n",
    "        v=1\n",
    "        c=row[1]\n",
    "        row[3]=v\n",
    "    else:\n",
    "        if row[1] == c and e != 0:\n",
    "            v+=1\n",
    "            row[3]=v\n",
    "    mycsv.writerow(row)"
   ]
  }
 ],
 "metadata": {
  "kernelspec": {
   "display_name": "Python 3 (ipykernel)",
   "language": "python",
   "name": "python3"
  },
  "language_info": {
   "codemirror_mode": {
    "name": "ipython",
    "version": 3
   },
   "file_extension": ".py",
   "mimetype": "text/x-python",
   "name": "python",
   "nbconvert_exporter": "python",
   "pygments_lexer": "ipython3",
   "version": "3.9.7"
  }
 },
 "nbformat": 4,
 "nbformat_minor": 5
}
